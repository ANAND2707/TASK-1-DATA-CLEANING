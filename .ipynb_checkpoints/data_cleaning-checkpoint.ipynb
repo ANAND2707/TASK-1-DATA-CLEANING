{
 "cells": [
  {
   "cell_type": "markdown",
   "id": "abc32570-5ec3-44fd-acca-afc27c9ded36",
   "metadata": {},
   "source": [
    "# Step 1: Load the Dataset\n",
    "# We begin by importing the dataset into a pandas DataFrame. This will help us analyze and clean the data.\n"
   ]
  },
  {
   "cell_type": "code",
   "execution_count": null,
   "id": "cfe2a091-46d5-4baa-a811-a6982f05a809",
   "metadata": {},
   "outputs": [],
   "source": []
  },
  {
   "cell_type": "code",
   "execution_count": 42,
   "id": "5c21ceeb-0335-4be2-91ed-29eb7e6bfe0f",
   "metadata": {},
   "outputs": [
    {
     "data": {
      "text/html": [
       "<div>\n",
       "<style scoped>\n",
       "    .dataframe tbody tr th:only-of-type {\n",
       "        vertical-align: middle;\n",
       "    }\n",
       "\n",
       "    .dataframe tbody tr th {\n",
       "        vertical-align: top;\n",
       "    }\n",
       "\n",
       "    .dataframe thead th {\n",
       "        text-align: right;\n",
       "    }\n",
       "</style>\n",
       "<table border=\"1\" class=\"dataframe\">\n",
       "  <thead>\n",
       "    <tr style=\"text-align: right;\">\n",
       "      <th></th>\n",
       "      <th>PatientId</th>\n",
       "      <th>AppointmentID</th>\n",
       "      <th>Gender</th>\n",
       "      <th>ScheduledDay</th>\n",
       "      <th>AppointmentDay</th>\n",
       "      <th>Age</th>\n",
       "      <th>Neighbourhood</th>\n",
       "      <th>Scholarship</th>\n",
       "      <th>Hipertension</th>\n",
       "      <th>Diabetes</th>\n",
       "      <th>Alcoholism</th>\n",
       "      <th>Handcap</th>\n",
       "      <th>SMS_received</th>\n",
       "      <th>No-show</th>\n",
       "    </tr>\n",
       "  </thead>\n",
       "  <tbody>\n",
       "    <tr>\n",
       "      <th>0</th>\n",
       "      <td>2.987250e+13</td>\n",
       "      <td>5642903</td>\n",
       "      <td>F</td>\n",
       "      <td>2016-04-29T18:38:08Z</td>\n",
       "      <td>2016-04-29T00:00:00Z</td>\n",
       "      <td>62</td>\n",
       "      <td>JARDIM DA PENHA</td>\n",
       "      <td>0</td>\n",
       "      <td>1</td>\n",
       "      <td>0</td>\n",
       "      <td>0</td>\n",
       "      <td>0</td>\n",
       "      <td>0</td>\n",
       "      <td>No</td>\n",
       "    </tr>\n",
       "    <tr>\n",
       "      <th>1</th>\n",
       "      <td>5.589978e+14</td>\n",
       "      <td>5642503</td>\n",
       "      <td>M</td>\n",
       "      <td>2016-04-29T16:08:27Z</td>\n",
       "      <td>2016-04-29T00:00:00Z</td>\n",
       "      <td>56</td>\n",
       "      <td>JARDIM DA PENHA</td>\n",
       "      <td>0</td>\n",
       "      <td>0</td>\n",
       "      <td>0</td>\n",
       "      <td>0</td>\n",
       "      <td>0</td>\n",
       "      <td>0</td>\n",
       "      <td>No</td>\n",
       "    </tr>\n",
       "    <tr>\n",
       "      <th>2</th>\n",
       "      <td>4.262962e+12</td>\n",
       "      <td>5642549</td>\n",
       "      <td>F</td>\n",
       "      <td>2016-04-29T16:19:04Z</td>\n",
       "      <td>2016-04-29T00:00:00Z</td>\n",
       "      <td>62</td>\n",
       "      <td>MATA DA PRAIA</td>\n",
       "      <td>0</td>\n",
       "      <td>0</td>\n",
       "      <td>0</td>\n",
       "      <td>0</td>\n",
       "      <td>0</td>\n",
       "      <td>0</td>\n",
       "      <td>No</td>\n",
       "    </tr>\n",
       "    <tr>\n",
       "      <th>3</th>\n",
       "      <td>8.679512e+11</td>\n",
       "      <td>5642828</td>\n",
       "      <td>F</td>\n",
       "      <td>2016-04-29T17:29:31Z</td>\n",
       "      <td>2016-04-29T00:00:00Z</td>\n",
       "      <td>8</td>\n",
       "      <td>PONTAL DE CAMBURI</td>\n",
       "      <td>0</td>\n",
       "      <td>0</td>\n",
       "      <td>0</td>\n",
       "      <td>0</td>\n",
       "      <td>0</td>\n",
       "      <td>0</td>\n",
       "      <td>No</td>\n",
       "    </tr>\n",
       "    <tr>\n",
       "      <th>4</th>\n",
       "      <td>8.841186e+12</td>\n",
       "      <td>5642494</td>\n",
       "      <td>F</td>\n",
       "      <td>2016-04-29T16:07:23Z</td>\n",
       "      <td>2016-04-29T00:00:00Z</td>\n",
       "      <td>56</td>\n",
       "      <td>JARDIM DA PENHA</td>\n",
       "      <td>0</td>\n",
       "      <td>1</td>\n",
       "      <td>1</td>\n",
       "      <td>0</td>\n",
       "      <td>0</td>\n",
       "      <td>0</td>\n",
       "      <td>No</td>\n",
       "    </tr>\n",
       "  </tbody>\n",
       "</table>\n",
       "</div>"
      ],
      "text/plain": [
       "      PatientId  AppointmentID Gender          ScheduledDay  \\\n",
       "0  2.987250e+13        5642903      F  2016-04-29T18:38:08Z   \n",
       "1  5.589978e+14        5642503      M  2016-04-29T16:08:27Z   \n",
       "2  4.262962e+12        5642549      F  2016-04-29T16:19:04Z   \n",
       "3  8.679512e+11        5642828      F  2016-04-29T17:29:31Z   \n",
       "4  8.841186e+12        5642494      F  2016-04-29T16:07:23Z   \n",
       "\n",
       "         AppointmentDay  Age      Neighbourhood  Scholarship  Hipertension  \\\n",
       "0  2016-04-29T00:00:00Z   62    JARDIM DA PENHA            0             1   \n",
       "1  2016-04-29T00:00:00Z   56    JARDIM DA PENHA            0             0   \n",
       "2  2016-04-29T00:00:00Z   62      MATA DA PRAIA            0             0   \n",
       "3  2016-04-29T00:00:00Z    8  PONTAL DE CAMBURI            0             0   \n",
       "4  2016-04-29T00:00:00Z   56    JARDIM DA PENHA            0             1   \n",
       "\n",
       "   Diabetes  Alcoholism  Handcap  SMS_received No-show  \n",
       "0         0           0        0             0      No  \n",
       "1         0           0        0             0      No  \n",
       "2         0           0        0             0      No  \n",
       "3         0           0        0             0      No  \n",
       "4         1           0        0             0      No  "
      ]
     },
     "execution_count": 42,
     "metadata": {},
     "output_type": "execute_result"
    }
   ],
   "source": [
    "# Importing necessary library for data manipulation\n",
    "import pandas as pd\n",
    "\n",
    "# Loading the medical appointment dataset from the 'rawdata' folder\n",
    "df = pd.read_csv(\"rawdata/KaggleV2-May-2016.csv\")\n",
    "\n",
    "# Displaying the first 5 rows of the dataset \n",
    "df.head()\n"
   ]
  },
  {
   "cell_type": "code",
   "execution_count": 44,
   "id": "bc306d4c-b970-4b9d-8a6e-8efd4ceab110",
   "metadata": {},
   "outputs": [
    {
     "name": "stdout",
     "output_type": "stream",
     "text": [
      "<class 'pandas.core.frame.DataFrame'>\n",
      "RangeIndex: 110527 entries, 0 to 110526\n",
      "Data columns (total 14 columns):\n",
      " #   Column          Non-Null Count   Dtype  \n",
      "---  ------          --------------   -----  \n",
      " 0   PatientId       110527 non-null  float64\n",
      " 1   AppointmentID   110527 non-null  int64  \n",
      " 2   Gender          110527 non-null  object \n",
      " 3   ScheduledDay    110527 non-null  object \n",
      " 4   AppointmentDay  110527 non-null  object \n",
      " 5   Age             110527 non-null  int64  \n",
      " 6   Neighbourhood   110527 non-null  object \n",
      " 7   Scholarship     110527 non-null  int64  \n",
      " 8   Hipertension    110527 non-null  int64  \n",
      " 9   Diabetes        110527 non-null  int64  \n",
      " 10  Alcoholism      110527 non-null  int64  \n",
      " 11  Handcap         110527 non-null  int64  \n",
      " 12  SMS_received    110527 non-null  int64  \n",
      " 13  No-show         110527 non-null  object \n",
      "dtypes: float64(1), int64(8), object(5)\n",
      "memory usage: 11.8+ MB\n"
     ]
    }
   ],
   "source": [
    "# Displaying basic information about the dataset such as column names, data types, and non-null counts\n",
    "df.info()\n"
   ]
  },
  {
   "cell_type": "code",
   "execution_count": 46,
   "id": "a3b7f8c7-34df-4e14-b5bf-bb21e5f03905",
   "metadata": {},
   "outputs": [
    {
     "data": {
      "text/plain": [
       "PatientId         0\n",
       "AppointmentID     0\n",
       "Gender            0\n",
       "ScheduledDay      0\n",
       "AppointmentDay    0\n",
       "Age               0\n",
       "Neighbourhood     0\n",
       "Scholarship       0\n",
       "Hipertension      0\n",
       "Diabetes          0\n",
       "Alcoholism        0\n",
       "Handcap           0\n",
       "SMS_received      0\n",
       "No-show           0\n",
       "dtype: int64"
      ]
     },
     "execution_count": 46,
     "metadata": {},
     "output_type": "execute_result"
    }
   ],
   "source": [
    "# Checking for missing (null) values in the dataset\n",
    "df.isnull().sum()\n"
   ]
  },
  {
   "cell_type": "code",
   "execution_count": 48,
   "id": "e7ffa536-fea7-4218-b652-6c1eb58bce0d",
   "metadata": {},
   "outputs": [],
   "source": [
    "# Check for duplicates\n",
    "df.duplicated().sum()\n",
    "\n",
    "# Drop duplicates if any\n",
    "df.drop_duplicates(inplace=True)\n"
   ]
  },
  {
   "cell_type": "markdown",
   "id": "44060aee-474b-46c0-ab48-0ba83da58545",
   "metadata": {},
   "source": [
    "### Fix Data Types (ScheduledDay & AppointmentDay to datetime)"
   ]
  },
  {
   "cell_type": "code",
   "execution_count": 51,
   "id": "c0404bd9-1a1d-4443-8db3-b3fb02f3a841",
   "metadata": {},
   "outputs": [],
   "source": [
    "# Convert date columns to datetime\n",
    "df['ScheduledDay'] = pd.to_datetime(df['ScheduledDay'])\n",
    "df['AppointmentDay'] = pd.to_datetime(df['AppointmentDay'])\n"
   ]
  },
  {
   "cell_type": "code",
   "execution_count": 53,
   "id": "339bbbed-a1ec-4bc1-b5ae-70aff176ea5f",
   "metadata": {},
   "outputs": [
    {
     "data": {
      "text/plain": [
       "ScheduledDay      datetime64[ns, UTC]\n",
       "AppointmentDay    datetime64[ns, UTC]\n",
       "dtype: object"
      ]
     },
     "execution_count": 53,
     "metadata": {},
     "output_type": "execute_result"
    }
   ],
   "source": [
    "df[['ScheduledDay', 'AppointmentDay']].dtypes\n"
   ]
  },
  {
   "cell_type": "markdown",
   "id": "bcfa1d10-ae09-4b68-b4f0-bcfae4be4059",
   "metadata": {},
   "source": [
    "### Create a new column for Waiting days "
   ]
  },
  {
   "cell_type": "code",
   "execution_count": 56,
   "id": "be56e7c5-af2f-4a31-921f-f0d920f9817e",
   "metadata": {},
   "outputs": [],
   "source": [
    "#Difference between appointment date and scheduled date\n",
    "\n",
    "df['WaitingDays'] = (df['AppointmentDay'] - df['ScheduledDay']).dt.days"
   ]
  },
  {
   "cell_type": "code",
   "execution_count": 58,
   "id": "a83c81c7-db68-4ed2-a0c5-4c6a9cc15cfe",
   "metadata": {},
   "outputs": [
    {
     "data": {
      "text/plain": [
       "count    110527.000000\n",
       "mean          9.183702\n",
       "std          15.254996\n",
       "min          -7.000000\n",
       "25%          -1.000000\n",
       "50%           3.000000\n",
       "75%          14.000000\n",
       "max         178.000000\n",
       "Name: WaitingDays, dtype: float64"
      ]
     },
     "execution_count": 58,
     "metadata": {},
     "output_type": "execute_result"
    }
   ],
   "source": [
    "df['WaitingDays'].describe()\n"
   ]
  },
  {
   "cell_type": "code",
   "execution_count": 60,
   "id": "7834de63-3c84-4b6f-afed-f263eaaea293",
   "metadata": {},
   "outputs": [],
   "source": [
    "#Remove negative waiting days\n",
    "df = df[df['WaitingDays'] >= 0]"
   ]
  },
  {
   "cell_type": "code",
   "execution_count": 62,
   "id": "b7c473c9-2629-4417-a6f3-b4c51530a6ef",
   "metadata": {},
   "outputs": [
    {
     "data": {
      "text/plain": [
       "0"
      ]
     },
     "execution_count": 62,
     "metadata": {},
     "output_type": "execute_result"
    }
   ],
   "source": [
    "df['WaitingDays'].min()"
   ]
  },
  {
   "cell_type": "markdown",
   "id": "a61c429d-d483-480a-91e5-4eaff4433db4",
   "metadata": {},
   "source": [
    "### Investigate 'Age' Column "
   ]
  },
  {
   "cell_type": "code",
   "execution_count": 65,
   "id": "138044fb-b7a0-48fb-b175-c35403ce5bc5",
   "metadata": {},
   "outputs": [
    {
     "data": {
      "text/plain": [
       "count    71959.000000\n",
       "mean        38.502564\n",
       "std         22.925421\n",
       "min          0.000000\n",
       "25%         19.000000\n",
       "50%         39.000000\n",
       "75%         57.000000\n",
       "max        115.000000\n",
       "Name: Age, dtype: float64"
      ]
     },
     "execution_count": 65,
     "metadata": {},
     "output_type": "execute_result"
    }
   ],
   "source": [
    "#Checking age range\n",
    "df['Age'].describe()\n"
   ]
  },
  {
   "cell_type": "code",
   "execution_count": 67,
   "id": "4f846d41-6fff-48ff-95a5-903097d1226b",
   "metadata": {},
   "outputs": [],
   "source": [
    "#Remove rows with invalid age\n",
    "df = df[df['Age'] >= 0]         # Remove negative ages\n",
    "df = df[df['Age'] <= 115]       # Remove unrealistically high ages\n"
   ]
  },
  {
   "cell_type": "code",
   "execution_count": 69,
   "id": "a7f7b3a0-dd94-4188-87d4-4bd3e1f8b055",
   "metadata": {},
   "outputs": [
    {
     "data": {
      "text/plain": [
       "array([ 76,  23,  39,  19,  30,  29,  22,  28,  54,  15,  50,  40,   4,\n",
       "        13,  46,  12,  38,  85,  55,  71,  78,  31,  58,  27,   8,   2,\n",
       "         3,   0,  69,  62,  68,  64,  60,  21,  67,  49,  10,   1,  11,\n",
       "        35,  51,  20,  26,  34,  56,  59,  18,  33,  16,  36,  42,  47,\n",
       "        17,  41,   5,  45,  44,  37,  24,  32,   6,  66,  63,  75,  52,\n",
       "        74,  53,  65,  57,  14,   9,  43,   7,  70,  72,  48,  87,  25,\n",
       "        83,  77,  61,  88,  89,  79,  73,  80,  84,  82,  94,  86,  91,\n",
       "        98,  81,  92,  90,  96,  93,  95,  97, 115, 100, 102], dtype=int64)"
      ]
     },
     "execution_count": 69,
     "metadata": {},
     "output_type": "execute_result"
    }
   ],
   "source": [
    "df['Age'].unique()\n"
   ]
  },
  {
   "cell_type": "markdown",
   "id": "54c76867-fc25-4b71-bbbe-2809bdc76252",
   "metadata": {},
   "source": [
    "###  Clean column names"
   ]
  },
  {
   "cell_type": "code",
   "execution_count": 72,
   "id": "e4dfd15c-028b-43b1-8a14-c928874e12cb",
   "metadata": {},
   "outputs": [],
   "source": [
    "#Replace hyphens (-) and spaces with underscores (_)\n",
    "df.columns = df.columns.str.lower().str.replace('-', '_').str.replace(' ', '_')\n"
   ]
  },
  {
   "cell_type": "code",
   "execution_count": 74,
   "id": "325cdd57-efa7-483f-b878-fa5573aaa0f3",
   "metadata": {},
   "outputs": [
    {
     "data": {
      "text/plain": [
       "Index(['patientid', 'appointmentid', 'gender', 'scheduledday',\n",
       "       'appointmentday', 'age', 'neighbourhood', 'scholarship', 'hipertension',\n",
       "       'diabetes', 'alcoholism', 'handcap', 'sms_received', 'no_show',\n",
       "       'waitingdays'],\n",
       "      dtype='object')"
      ]
     },
     "execution_count": 74,
     "metadata": {},
     "output_type": "execute_result"
    }
   ],
   "source": [
    "df.columns\n"
   ]
  },
  {
   "cell_type": "code",
   "execution_count": null,
   "id": "9268cf3f-7936-458d-ba14-a229e9f9f1dd",
   "metadata": {},
   "outputs": [],
   "source": []
  },
  {
   "cell_type": "code",
   "execution_count": null,
   "id": "791f0a08-2c13-4335-bb35-1b2b518a685c",
   "metadata": {},
   "outputs": [],
   "source": []
  },
  {
   "cell_type": "code",
   "execution_count": null,
   "id": "2841d345-a54a-4911-b584-3a4a36510177",
   "metadata": {},
   "outputs": [],
   "source": []
  }
 ],
 "metadata": {
  "kernelspec": {
   "display_name": "Python [conda env:base] *",
   "language": "python",
   "name": "conda-base-py"
  },
  "language_info": {
   "codemirror_mode": {
    "name": "ipython",
    "version": 3
   },
   "file_extension": ".py",
   "mimetype": "text/x-python",
   "name": "python",
   "nbconvert_exporter": "python",
   "pygments_lexer": "ipython3",
   "version": "3.12.3"
  }
 },
 "nbformat": 4,
 "nbformat_minor": 5
}
