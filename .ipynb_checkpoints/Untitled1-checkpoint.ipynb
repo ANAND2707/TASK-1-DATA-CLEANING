{
 "cells": [
  {
   "cell_type": "code",
   "execution_count": 5,
   "id": "dbce5005-399c-4a7e-8381-4e0605fd2ff7",
   "metadata": {},
   "outputs": [
    {
     "name": "stdout",
     "output_type": "stream",
     "text": [
      "✅ README.md file created successfully!\n"
     ]
    }
   ],
   "source": [
    "readme_content = \"\"\"\n",
    "# Task 1 - Data Cleaning\n",
    "\n",
    "This project involves cleaning and preprocessing a medical appointment dataset.\n",
    "\n",
    "## 📁 Folder Structure\n",
    "TASK-1-DATA-CLEANING/\n",
    "├── rawdata/\n",
    "│   └── KaggleV2-May-2016.csv\n",
    "├── cleaned_dataset.csv               ← Cleaned data output\n",
    "├── data_cleaning.ipynb              ← Main Jupyter Notebook with code\n",
    "├── README.md                        ← This file\n",
    "└── screenshots/\n",
    "    ├── before_head.png\n",
    "    ├── before_info.png\n",
    "    ├── after_head.png\n",
    "    └── after_info.png\n",
    "\n",
    "## ✅ Data Cleaning Checklist\n",
    "\n",
    "| Step | Task | Description |\n",
    "|------|------|-------------|\n",
    "| ✅ 1 | df.head() | Already done |\n",
    "| ✅ 2 | df.info() | Already done |\n",
    "| 🔥 3 | Graphs Before Cleaning | Show data distribution, outliers, value counts |\n",
    "| 🔍 4 | df.isnull().sum() | Check missing values |\n",
    "| ✂️ 5 | df.drop_duplicates() | Remove duplicate rows |\n",
    "| 🎯 6 | Standardize Data | Clean/format columns like Gender, No-show, etc. |\n",
    "| 🕒 7 | Fix Date Columns | Convert ScheduledDay, AppointmentDay to datetime |\n",
    "| 🏷️ 8 | Rename Columns | e.g., No-show → No_Show, Handcap → Handicap |\n",
    "| 🔎 9 | Check Data Types | Verify after conversion |\n",
    "| 🧹 10 | Fix Outliers / Negatives | e.g., Age < 0, Handcap > 4 |\n",
    "| 🧪 11 | Convert No-show to 0/1 | Useful for ML/plotting |\n",
    "| 💾 12 | Save Cleaned Dataset | Done using to_csv() |\n",
    "| 📊 13 | Graphs After Cleaning | Same plots as Step 3 for comparison |\n",
    "\n",
    "---\n",
    "\n",
    "📌 Dataset Source: [Kaggle Medical Appointments Dataset](https://www.kaggle.com/datasets/joniarroba/noshowappointments)\n",
    "\"\"\"\n",
    "\n",
    "with open(\"README.md\", \"w\", encoding=\"utf-8\") as file:\n",
    "    file.write(readme_content)\n",
    "\n",
    "print(\"✅ README.md file created successfully!\")\n"
   ]
  },
  {
   "cell_type": "code",
   "execution_count": null,
   "id": "cda43845-4e1e-4667-8902-0ff2dc431ada",
   "metadata": {},
   "outputs": [],
   "source": []
  }
 ],
 "metadata": {
  "kernelspec": {
   "display_name": "Python [conda env:base] *",
   "language": "python",
   "name": "conda-base-py"
  },
  "language_info": {
   "codemirror_mode": {
    "name": "ipython",
    "version": 3
   },
   "file_extension": ".py",
   "mimetype": "text/x-python",
   "name": "python",
   "nbconvert_exporter": "python",
   "pygments_lexer": "ipython3",
   "version": "3.12.3"
  }
 },
 "nbformat": 4,
 "nbformat_minor": 5
}
